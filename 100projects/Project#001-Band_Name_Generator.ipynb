{
 "cells": [
  {
   "cell_type": "markdown",
   "id": "c80c9655",
   "metadata": {},
   "source": [
    "# Band Name Generator\n",
    "---"
   ]
  },
  {
   "cell_type": "markdown",
   "id": "90a1b17b",
   "metadata": {},
   "source": [
    "### Create a greeting for your program."
   ]
  },
  {
   "cell_type": "code",
   "execution_count": 1,
   "id": "338c18fd",
   "metadata": {},
   "outputs": [
    {
     "name": "stdout",
     "output_type": "stream",
     "text": [
      "Welcome to Band Name Generator\n"
     ]
    }
   ],
   "source": [
    "print(\"Welcome to Band Name Generator\")"
   ]
  },
  {
   "cell_type": "markdown",
   "id": "7fc39a68",
   "metadata": {},
   "source": [
    "### Ask the user for the city that they grew up in."
   ]
  },
  {
   "cell_type": "code",
   "execution_count": null,
   "id": "ef3031c6",
   "metadata": {},
   "outputs": [],
   "source": [
    "city=input(\"What is the city you grew up in? \\n\")"
   ]
  },
  {
   "cell_type": "markdown",
   "id": "2b068742",
   "metadata": {},
   "source": [
    "### Ask the user for the name of a pet."
   ]
  },
  {
   "cell_type": "code",
   "execution_count": null,
   "id": "2f1fa079",
   "metadata": {},
   "outputs": [],
   "source": [
    "pet_name=input(\"What is your pet's name? \\n\")"
   ]
  },
  {
   "cell_type": "markdown",
   "id": "d0b7d077",
   "metadata": {},
   "source": [
    "### Combine the name of their city and pet and show them their band name."
   ]
  },
  {
   "cell_type": "code",
   "execution_count": null,
   "id": "a9fb2e83",
   "metadata": {},
   "outputs": [],
   "source": [
    "print(\"Your band name could be \"+ city+\" \"+pet_name)"
   ]
  },
  {
   "cell_type": "markdown",
   "id": "bdfdb858",
   "metadata": {},
   "source": [
    "---"
   ]
  },
  {
   "cell_type": "markdown",
   "id": "411c66a2",
   "metadata": {},
   "source": [
    "### Testing"
   ]
  },
  {
   "cell_type": "code",
   "execution_count": null,
   "id": "3d332a7c",
   "metadata": {
    "scrolled": true
   },
   "outputs": [],
   "source": [
    "print(\"Welcome to Band Name Generator\")\n",
    "city=input(\"What is the city you grew up in? \\n\")\n",
    "pet_name=input(\"What is your pet's name? \\n\")\n",
    "print(\"Your band name could be \"+ city+\" \"+pet_name)"
   ]
  }
 ],
 "metadata": {
  "kernelspec": {
   "display_name": "Python 3 (ipykernel)",
   "language": "python",
   "name": "python3"
  },
  "language_info": {
   "codemirror_mode": {
    "name": "ipython",
    "version": 3
   },
   "file_extension": ".py",
   "mimetype": "text/x-python",
   "name": "python",
   "nbconvert_exporter": "python",
   "pygments_lexer": "ipython3",
   "version": "3.9.13"
  }
 },
 "nbformat": 4,
 "nbformat_minor": 5
}
