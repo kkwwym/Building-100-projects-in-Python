{
 "cells": [
  {
   "cell_type": "markdown",
   "id": "198755cc",
   "metadata": {},
   "source": [
    "#  Simple Calculator \n",
    "\n",
    "---"
   ]
  },
  {
   "cell_type": "code",
   "execution_count": 1,
   "id": "83175824",
   "metadata": {},
   "outputs": [],
   "source": [
    "from IPython.display import clear_output"
   ]
  },
  {
   "cell_type": "code",
   "execution_count": 2,
   "id": "a303eb7d",
   "metadata": {},
   "outputs": [],
   "source": [
    "logo = \"\"\"\n",
    " _____________________\n",
    "|  _________________  |\n",
    "| | Pythonista   0. | |  .----------------.  .----------------.  .----------------.  .----------------. \n",
    "| |_________________| | | .--------------. || .--------------. || .--------------. || .--------------. |\n",
    "|  ___ ___ ___   ___  | | |     ______   | || |      __      | || |   _____      | || |     ______   | |\n",
    "| | 7 | 8 | 9 | | + | | | |   .' ___  |  | || |     /  \\     | || |  |_   _|     | || |   .' ___  |  | |\n",
    "| |___|___|___| |___| | | |  / .'   \\_|  | || |    / /\\ \\    | || |    | |       | || |  / .'   \\_|  | |\n",
    "| | 4 | 5 | 6 | | - | | | |  | |         | || |   / ____ \\   | || |    | |   _   | || |  | |         | |\n",
    "| |___|___|___| |___| | | |  \\ `.___.'\\  | || | _/ /    \\ \\_ | || |   _| |__/ |  | || |  \\ `.___.'\\  | |\n",
    "| | 1 | 2 | 3 | | x | | | |   `._____.'  | || ||____|  |____|| || |  |________|  | || |   `._____.'  | |\n",
    "| |___|___|___| |___| | | |              | || |              | || |              | || |              | |\n",
    "| | . | 0 | = | | / | | | '--------------' || '--------------' || '--------------' || '--------------' |\n",
    "| |___|___|___| |___| |  '----------------'  '----------------'  '----------------'  '----------------' \n",
    "|_____________________|\n",
    "\"\"\"\n"
   ]
  },
  {
   "cell_type": "code",
   "execution_count": 3,
   "id": "2a6551be",
   "metadata": {},
   "outputs": [],
   "source": [
    "def add(x,y):\n",
    "    return x+y\n",
    "\n",
    "def subtract(x,y):\n",
    "    return x-y\n",
    "\n",
    "def multiply(x,y):\n",
    "    return x*y\n",
    "\n",
    "def divide(x,y):\n",
    "    return x/y"
   ]
  },
  {
   "cell_type": "code",
   "execution_count": 4,
   "id": "139151b6",
   "metadata": {},
   "outputs": [],
   "source": [
    "operations={\"+\":add,\"-\":subtract,\"*\":multiply,\"/\":divide}"
   ]
  },
  {
   "cell_type": "code",
   "execution_count": 5,
   "id": "baefe775",
   "metadata": {
    "scrolled": true
   },
   "outputs": [
    {
     "name": "stdout",
     "output_type": "stream",
     "text": [
      "What is the first number? 12\n",
      "+\n",
      "-\n",
      "*\n",
      "/\n",
      "Pick an operation from the line above: +\n",
      "What is the second number? 90\n",
      "12 + 90 = 102\n"
     ]
    }
   ],
   "source": [
    "number_1=int(input(\"What is the first number? \"))\n",
    "for symbol in operations:\n",
    "    print(symbol)\n",
    "operation_symbol=input(\"Pick an operation from the line above: \")\n",
    "number_2=int(input(\"What is the second number? \"))\n",
    "answer=operations[operation_symbol](number_1,number_2)\n",
    "print(f\"{number_1} {operation_symbol} {number_2} = {answer}\")"
   ]
  },
  {
   "cell_type": "code",
   "execution_count": 7,
   "id": "8ae9500a",
   "metadata": {},
   "outputs": [
    {
     "name": "stdout",
     "output_type": "stream",
     "text": [
      "Good Bye!\n"
     ]
    }
   ],
   "source": [
    "print(logo)\n",
    "number_1=int(input(\"What is the first number? \"))\n",
    "for symbol in operations:\n",
    "    print(symbol)\n",
    "\n",
    "continue_cal=True\n",
    "while continue_cal : \n",
    "    operation_symbol=input(\"Pick an operation: \")\n",
    "    number_2=int(input(\"What is the next number? \"))\n",
    "    answer=operations[operation_symbol](number_1,number_2)\n",
    "    print(f\"{number_1} {operation_symbol} {number_2} = {answer}\")\n",
    "    input_string=\"Type \\\"y\\\" to continue calculating with \" +str(answer)+ \", or type \\\"n\\\" to exit:\"\n",
    "    key=input(input_string)\n",
    "    if key==\"y\":\n",
    "        continue_cal=True\n",
    "        number_1=answer\n",
    "        clear_output()\n",
    "        print(f\"Continue calculating with: {answer}\")\n",
    "    elif key==\"n\":\n",
    "        continue_cal=False\n",
    "        clear_output()\n",
    "        print(\"Good Bye!\") "
   ]
  }
 ],
 "metadata": {
  "kernelspec": {
   "display_name": "Python 3 (ipykernel)",
   "language": "python",
   "name": "python3"
  },
  "language_info": {
   "codemirror_mode": {
    "name": "ipython",
    "version": 3
   },
   "file_extension": ".py",
   "mimetype": "text/x-python",
   "name": "python",
   "nbconvert_exporter": "python",
   "pygments_lexer": "ipython3",
   "version": "3.9.13"
  }
 },
 "nbformat": 4,
 "nbformat_minor": 5
}
