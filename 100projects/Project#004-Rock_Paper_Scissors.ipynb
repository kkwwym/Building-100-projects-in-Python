{
 "cells": [
  {
   "cell_type": "markdown",
   "id": "9f905ac0",
   "metadata": {},
   "source": [
    "# Rock Paper Scissors\n",
    "---"
   ]
  },
  {
   "cell_type": "markdown",
   "id": "defb6970",
   "metadata": {},
   "source": [
    "### Instructions\n",
    "\n",
    "Make a rock, paper, scissors game.\n",
    "\n",
    "Start the game by asking the player:\n",
    "\"What do you choose? Type 0 for Rock, 1 for Paper or 2 for Scissors.\"\n",
    "\n",
    "From there you will need to figure out:\n",
    "\n",
    "How you will store the user's input.  \n",
    "How you will generate a random choice for the computer.  \n",
    "How you will compare the user's and the computer's choice to determine the winner (or a draw).\n"
   ]
  },
  {
   "cell_type": "code",
   "execution_count": 1,
   "id": "e83d75c3",
   "metadata": {},
   "outputs": [],
   "source": [
    "import random"
   ]
  },
  {
   "cell_type": "code",
   "execution_count": 2,
   "id": "a9239c19",
   "metadata": {},
   "outputs": [],
   "source": [
    "rock = '''\n",
    "    _______\n",
    "---'   ____)\n",
    "      (_____)\n",
    "      (_____)\n",
    "      (____)\n",
    "---.__(___)\n",
    "'''\n",
    "\n",
    "paper = '''\n",
    "    _______\n",
    "---'   ____)____\n",
    "          ______)\n",
    "          _______)\n",
    "         _______)\n",
    "---.__________)\n",
    "'''\n",
    "\n",
    "scissors = '''\n",
    "    _______\n",
    "---'   ____)____\n",
    "          ______)\n",
    "       __________)\n",
    "      (____)\n",
    "---.__(___)\n",
    "'''\n",
    "game_images=[rock,paper,scissors]"
   ]
  },
  {
   "cell_type": "code",
   "execution_count": 3,
   "id": "59993eb3",
   "metadata": {},
   "outputs": [
    {
     "name": "stdout",
     "output_type": "stream",
     "text": [
      "What do you choose? Type 0 for Rock, 1 for Paper or 2 for Scissors.\n",
      "2\n",
      "Your Choice:\n",
      "\n",
      "    _______\n",
      "---'   ____)____\n",
      "          ______)\n",
      "       __________)\n",
      "      (____)\n",
      "---.__(___)\n",
      "\n",
      "Computer Choice:\n",
      "\n",
      "    _______\n",
      "---'   ____)____\n",
      "          ______)\n",
      "       __________)\n",
      "      (____)\n",
      "---.__(___)\n",
      "\n",
      "It's a draw\n"
     ]
    }
   ],
   "source": [
    "user_choice=int(input(\"What do you choose? Type 0 for Rock, 1 for Paper or 2 for Scissors.\\n\"))\n",
    "if user_choice>2 or user_choice<0:\n",
    "    print(\"You type an invalid number, you lose.\")\n",
    "    \n",
    "elif user_choice<=2 and user_choice>=0:\n",
    "    print(\"Your Choice:\")\n",
    "    print(game_images[user_choice])\n",
    "    computer_choice=random.randint(0,2)\n",
    "    print(\"Computer Choice:\")\n",
    "    print(game_images[computer_choice])\n",
    "\n",
    "    if user_choice==computer_choice:\n",
    "        print(\"It's a draw\")\n",
    "    elif user_choice==0 and computer_choice==2:\n",
    "        print(\"You win!\")\n",
    "    elif user_choice==2 and computer_choice==0:\n",
    "        print(\"You lose!\")\n",
    "    elif user_choice>computer_choice:\n",
    "        print(\"You win!\")\n",
    "    else:\n",
    "        print(\"You lose!\")"
   ]
  }
 ],
 "metadata": {
  "kernelspec": {
   "display_name": "Python 3 (ipykernel)",
   "language": "python",
   "name": "python3"
  },
  "language_info": {
   "codemirror_mode": {
    "name": "ipython",
    "version": 3
   },
   "file_extension": ".py",
   "mimetype": "text/x-python",
   "name": "python",
   "nbconvert_exporter": "python",
   "pygments_lexer": "ipython3",
   "version": "3.9.13"
  }
 },
 "nbformat": 4,
 "nbformat_minor": 5
}
