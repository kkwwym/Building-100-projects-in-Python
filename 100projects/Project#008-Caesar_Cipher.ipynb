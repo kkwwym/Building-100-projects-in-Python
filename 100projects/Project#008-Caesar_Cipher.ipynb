{
 "cells": [
  {
   "cell_type": "markdown",
   "id": "e180122d",
   "metadata": {},
   "source": [
    "# Caesar Cipher \n",
    "---"
   ]
  },
  {
   "cell_type": "code",
   "execution_count": 1,
   "id": "20f9c124",
   "metadata": {},
   "outputs": [
    {
     "name": "stdout",
     "output_type": "stream",
     "text": [
      "Type A-Z: abcdefghijklmnopqrstuvwxyz\n"
     ]
    }
   ],
   "source": [
    "a_z=input(\"Type A-Z: \")\n",
    "alphabet=[]\n",
    "for i in a_z:\n",
    "    alphabet.append(i)"
   ]
  },
  {
   "cell_type": "code",
   "execution_count": 2,
   "id": "bc6790df",
   "metadata": {},
   "outputs": [
    {
     "data": {
      "text/plain": [
       "26"
      ]
     },
     "execution_count": 2,
     "metadata": {},
     "output_type": "execute_result"
    }
   ],
   "source": [
    "len(alphabet)"
   ]
  },
  {
   "cell_type": "code",
   "execution_count": 3,
   "id": "f11d9c23",
   "metadata": {},
   "outputs": [
    {
     "name": "stdout",
     "output_type": "stream",
     "text": [
      "['a', 'b', 'c', 'd', 'e', 'f', 'g', 'h', 'i', 'j', 'k', 'l', 'm', 'n', 'o', 'p', 'q', 'r', 's', 't', 'u', 'v', 'w', 'x', 'y', 'z']\n"
     ]
    }
   ],
   "source": [
    "print(alphabet)"
   ]
  },
  {
   "cell_type": "markdown",
   "id": "eb15db89",
   "metadata": {},
   "source": [
    "### Create a encrypt function and a decrypt function "
   ]
  },
  {
   "cell_type": "code",
   "execution_count": 4,
   "id": "753f5ed0",
   "metadata": {},
   "outputs": [],
   "source": [
    "def encrypt(text,shift):\n",
    "    cipher_text=\"\"\n",
    "    for i in text:\n",
    "        index=alphabet.index(i)+shift\n",
    "        if index>25:\n",
    "            index=index-26\n",
    "        text=alphabet[index]\n",
    "        cipher_text+=text\n",
    "    print(f\"The encode text is {cipher_text}.\")"
   ]
  },
  {
   "cell_type": "code",
   "execution_count": 5,
   "id": "1a51be5a",
   "metadata": {},
   "outputs": [
    {
     "name": "stdout",
     "output_type": "stream",
     "text": [
      "The encode text is mjqqt.\n"
     ]
    }
   ],
   "source": [
    "encrypt(\"hello\",5)"
   ]
  },
  {
   "cell_type": "code",
   "execution_count": 6,
   "id": "fa0197a0",
   "metadata": {},
   "outputs": [
    {
     "name": "stdout",
     "output_type": "stream",
     "text": [
      "The encode text is e.\n"
     ]
    }
   ],
   "source": [
    "encrypt(\"z\",5)"
   ]
  },
  {
   "cell_type": "code",
   "execution_count": 7,
   "id": "55cf2676",
   "metadata": {},
   "outputs": [],
   "source": [
    "def decrypt(text,shift):\n",
    "    plain_text=\"\"\n",
    "    for i in text:\n",
    "        index=alphabet.index(i)-shift\n",
    "        if index<0:\n",
    "            index=index+26\n",
    "        text=alphabet[index]\n",
    "        plain_text+=text\n",
    "    print(f\"The decode text is {plain_text}.\")"
   ]
  },
  {
   "cell_type": "code",
   "execution_count": 8,
   "id": "0c1d7043",
   "metadata": {},
   "outputs": [
    {
     "name": "stdout",
     "output_type": "stream",
     "text": [
      "The decode text is hello.\n"
     ]
    }
   ],
   "source": [
    "decrypt(\"mjqqt\",5)"
   ]
  },
  {
   "cell_type": "code",
   "execution_count": 9,
   "id": "d2a20811",
   "metadata": {},
   "outputs": [
    {
     "name": "stdout",
     "output_type": "stream",
     "text": [
      "The decode text is z.\n"
     ]
    }
   ],
   "source": [
    "decrypt(\"e\",5)"
   ]
  },
  {
   "cell_type": "markdown",
   "id": "8702099f",
   "metadata": {},
   "source": [
    "### Operate Caesar Cipher"
   ]
  },
  {
   "cell_type": "code",
   "execution_count": 10,
   "id": "8c0972e7",
   "metadata": {},
   "outputs": [
    {
     "name": "stdout",
     "output_type": "stream",
     "text": [
      "Type \"encode\" to encrypt, type \"decode\" to decrypt: \n",
      "encode\n",
      "Type your message: \n",
      "hello\n",
      "Type the shift number: \n",
      "5\n",
      "The encode text is mjqqt.\n"
     ]
    }
   ],
   "source": [
    "direction=input(\"Type \\\"encode\\\" to encrypt, type \\\"decode\\\" to decrypt: \\n\")\n",
    "text=input(\"Type your message: \\n\").lower()\n",
    "shift=int(input(\"Type the shift number: \\n\"))\n",
    "\n",
    "if direction==\"encode\":\n",
    "    encrypt(text,shift)\n",
    "elif direction==\"decode\":\n",
    "    decrypt(text,shift)"
   ]
  }
 ],
 "metadata": {
  "kernelspec": {
   "display_name": "Python 3 (ipykernel)",
   "language": "python",
   "name": "python3"
  },
  "language_info": {
   "codemirror_mode": {
    "name": "ipython",
    "version": 3
   },
   "file_extension": ".py",
   "mimetype": "text/x-python",
   "name": "python",
   "nbconvert_exporter": "python",
   "pygments_lexer": "ipython3",
   "version": "3.9.13"
  }
 },
 "nbformat": 4,
 "nbformat_minor": 5
}
