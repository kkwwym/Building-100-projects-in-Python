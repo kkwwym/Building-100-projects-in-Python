{
 "cells": [
  {
   "cell_type": "markdown",
   "id": "177c8722",
   "metadata": {},
   "source": [
    "# Escaping The Maze\n",
    "---"
   ]
  },
  {
   "cell_type": "markdown",
   "id": "2ffc458b",
   "metadata": {},
   "source": [
    "### Instrucions\n",
    "The project is on Reeborg's World.\n",
    "Click the [link](https://reeborg.ca/reeborg.html?lang=en&mode=python&menu=worlds%2Fmenus%2Freeborg_intro_en.json&name=Maze&url=worlds%2Ftutorial_en%2Fmaze1.json) and copy the followoing code to see how I escape the maze"
   ]
  },
  {
   "cell_type": "markdown",
   "id": "7b30e75e",
   "metadata": {},
   "source": [
    "    def turn_right():\n",
    "        turn_left()\n",
    "        turn_left()\n",
    "        turn_left()\n",
    "    def jump():\n",
    "        turn_left()\n",
    "        move()\n",
    "        turn_right()\n",
    "        move()\n",
    "        turn_right()\n",
    "        move()\n",
    "        turn_left()\n",
    "    \n",
    "    turn_right()\n",
    "    \n",
    "    while not at_goal():\n",
    "        if wall_on_right():\n",
    "            turn_left()\n",
    "        elif wall_in_front:\n",
    "            turn_right()\n",
    "            move()\n",
    "        elif right_is_clear():\n",
    "            move()"
   ]
  }
 ],
 "metadata": {
  "kernelspec": {
   "display_name": "Python 3 (ipykernel)",
   "language": "python",
   "name": "python3"
  },
  "language_info": {
   "codemirror_mode": {
    "name": "ipython",
    "version": 3
   },
   "file_extension": ".py",
   "mimetype": "text/x-python",
   "name": "python",
   "nbconvert_exporter": "python",
   "pygments_lexer": "ipython3",
   "version": "3.9.13"
  }
 },
 "nbformat": 4,
 "nbformat_minor": 5
}
