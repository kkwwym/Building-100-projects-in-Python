{
 "cells": [
  {
   "cell_type": "markdown",
   "id": "23e3a458",
   "metadata": {},
   "source": [
    "# Blind Auction"
   ]
  },
  {
   "cell_type": "code",
   "execution_count": 1,
   "id": "8dab0a5e",
   "metadata": {},
   "outputs": [],
   "source": [
    "from IPython.display import clear_output\n",
    "import numpy as np"
   ]
  },
  {
   "cell_type": "code",
   "execution_count": 2,
   "id": "37ee4b36",
   "metadata": {},
   "outputs": [],
   "source": [
    "logo = '''\n",
    "                         ___________\n",
    "                         \\         /\n",
    "                          )_______(\n",
    "                          |\"\"\"\"\"\"\"|_.-._,.---------.,_.-._\n",
    "                          |       | | |               | | ''-.\n",
    "                          |       |_| |_             _| |_..-'\n",
    "                          |_______| '-' `'---------'` '-'\n",
    "                          )\"\"\"\"\"\"\"(\n",
    "                         /_________\\\\\n",
    "                       .-------------.\n",
    "                      /_______________\\\\\n",
    "'''"
   ]
  },
  {
   "cell_type": "code",
   "execution_count": 3,
   "id": "7231b155",
   "metadata": {},
   "outputs": [],
   "source": [
    "def bid_function(answer):\n",
    "    if answer:\n",
    "        name=input(\"What is your name? \\n\")\n",
    "        price=input(\"What's your bid? \\n\")\n",
    "        bidders=input(\"Are there any other bidders? Type \\\"yes\\\" or \\\"no\\\" \\n\") \n",
    "        if bidders==\"no\":\n",
    "            bidders=False\n",
    "        elif bidders==\"yes\":\n",
    "            bidders=True\n",
    "    return name,price,bidders"
   ]
  },
  {
   "cell_type": "markdown",
   "id": "b16b2eed",
   "metadata": {},
   "source": [
    "---\n",
    "### Testing"
   ]
  },
  {
   "cell_type": "code",
   "execution_count": 4,
   "id": "25fdba2d",
   "metadata": {},
   "outputs": [
    {
     "name": "stdout",
     "output_type": "stream",
     "text": [
      "The winner is Eason with a bid of 250.\n"
     ]
    }
   ],
   "source": [
    "print(logo)\n",
    "print(\"Welcome to the secret auction program.\") \n",
    "#name=input(\"What is your name? \\n\")\n",
    "#price=input(\"What's your bid? \\n\")\n",
    "#answer=input(\"Are there any other bidders? Type \\\"yes\\\" or \\\"no\\\" \\n\") \n",
    "\n",
    "auction={}\n",
    "bidders=True\n",
    "\n",
    "while bidders==True:\n",
    "    bid=bid_function(bidders)\n",
    "    auction[bid[0].capitalize()]=int(bid[1])\n",
    "    bidders=bid[2]\n",
    "    clear_output()  \n",
    "\n",
    "bid_list=[]\n",
    "for name in auction:\n",
    "    bid_list.append(auction[name])\n",
    "\n",
    "max_price=np.max(bid_list)\n",
    "    \n",
    "for key in auction:\n",
    "    if auction[key]==max_price:\n",
    "        print(f\"The winner is {key} with a bid of {max_price}.\")    \n"
   ]
  },
  {
   "cell_type": "markdown",
   "id": "3b3e3392",
   "metadata": {},
   "source": [
    "### Check"
   ]
  },
  {
   "cell_type": "code",
   "execution_count": 5,
   "id": "8cda65e4",
   "metadata": {},
   "outputs": [
    {
     "data": {
      "text/plain": [
       "{'Blair': 100, 'Nemo': 90, 'Ruru': 200, 'Eason': 250, 'Coco': 150}"
      ]
     },
     "execution_count": 5,
     "metadata": {},
     "output_type": "execute_result"
    }
   ],
   "source": [
    "auction"
   ]
  },
  {
   "cell_type": "code",
   "execution_count": 6,
   "id": "93f43a98",
   "metadata": {},
   "outputs": [
    {
     "data": {
      "text/plain": [
       "[100, 90, 200, 250, 150]"
      ]
     },
     "execution_count": 6,
     "metadata": {},
     "output_type": "execute_result"
    }
   ],
   "source": [
    "bid_list"
   ]
  }
 ],
 "metadata": {
  "kernelspec": {
   "display_name": "Python 3 (ipykernel)",
   "language": "python",
   "name": "python3"
  },
  "language_info": {
   "codemirror_mode": {
    "name": "ipython",
    "version": 3
   },
   "file_extension": ".py",
   "mimetype": "text/x-python",
   "name": "python",
   "nbconvert_exporter": "python",
   "pygments_lexer": "ipython3",
   "version": "3.9.13"
  }
 },
 "nbformat": 4,
 "nbformat_minor": 5
}
