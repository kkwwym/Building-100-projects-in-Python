{
 "cells": [
  {
   "cell_type": "markdown",
   "id": "adb4d72d",
   "metadata": {},
   "source": [
    "# Tip Calculator\n",
    "---"
   ]
  },
  {
   "cell_type": "markdown",
   "id": "f9a8627a",
   "metadata": {},
   "source": [
    "### Instructions\n",
    "\n",
    "If the bill was 150.00, split between 5 people, with 12% tip.\n",
    "\n",
    "Each person should pay (150.00 / 5) * 1.12 = 33.6\n",
    "\n",
    "Format the result to 2 decimal places = 33.60\n",
    "\n",
    "Thus everyone's share of the total bill is 30.00 add a 3.60 tip.\n"
   ]
  },
  {
   "cell_type": "markdown",
   "id": "3495bf10",
   "metadata": {},
   "source": [
    "### Create a greeting for your program."
   ]
  },
  {
   "cell_type": "code",
   "execution_count": 1,
   "id": "bb01a736",
   "metadata": {},
   "outputs": [
    {
     "name": "stdout",
     "output_type": "stream",
     "text": [
      "Welcome to the tip calculator !\n"
     ]
    }
   ],
   "source": [
    "print(\"Welcome to the tip calculator !\")"
   ]
  },
  {
   "cell_type": "markdown",
   "id": "0062f30e",
   "metadata": {},
   "source": [
    "### Ask the user the total of bill."
   ]
  },
  {
   "cell_type": "code",
   "execution_count": 2,
   "id": "7c9b4336",
   "metadata": {},
   "outputs": [
    {
     "name": "stdout",
     "output_type": "stream",
     "text": [
      "What was the total bill? $250\n"
     ]
    }
   ],
   "source": [
    "total=input(\"What was the total bill? $\")\n",
    "total=float(total)"
   ]
  },
  {
   "cell_type": "markdown",
   "id": "2b75aaa1",
   "metadata": {},
   "source": [
    "### Ask the user percentage tip 10,12, or 15?"
   ]
  },
  {
   "cell_type": "code",
   "execution_count": 3,
   "id": "08099f1a",
   "metadata": {},
   "outputs": [
    {
     "name": "stdout",
     "output_type": "stream",
     "text": [
      "What percentage tip would you like to give? 10, 12, or 15? 15\n"
     ]
    }
   ],
   "source": [
    "percentage=input(\"What percentage tip would you like to give? 10, 12, or 15? \")\n",
    "percentage=int(percentage)"
   ]
  },
  {
   "cell_type": "markdown",
   "id": "6b855dde",
   "metadata": {},
   "source": [
    "### Ask the user how many people are spilt to the bill"
   ]
  },
  {
   "cell_type": "code",
   "execution_count": 4,
   "id": "e492aa53",
   "metadata": {},
   "outputs": [
    {
     "name": "stdout",
     "output_type": "stream",
     "text": [
      "How many people spilt the bill? 9\n"
     ]
    }
   ],
   "source": [
    "people=input(\"How many people spilt the bill? \")\n",
    "people=int(people)"
   ]
  },
  {
   "cell_type": "markdown",
   "id": "c88cd889",
   "metadata": {},
   "source": [
    "### Tell user how much each person should pay"
   ]
  },
  {
   "cell_type": "code",
   "execution_count": 5,
   "id": "00ca844a",
   "metadata": {},
   "outputs": [
    {
     "name": "stdout",
     "output_type": "stream",
     "text": [
      "Each person should pay: $31.94\n"
     ]
    }
   ],
   "source": [
    "amount=round((total*(percentage/100+1))/people,2)\n",
    "print(f\"Each person should pay: ${amount}\")"
   ]
  },
  {
   "cell_type": "markdown",
   "id": "28885579",
   "metadata": {},
   "source": [
    "---\n",
    "### Testing"
   ]
  },
  {
   "cell_type": "code",
   "execution_count": 6,
   "id": "bf8a6c0d",
   "metadata": {},
   "outputs": [
    {
     "name": "stdout",
     "output_type": "stream",
     "text": [
      "Welcome to the tip calculator !\n",
      "What was the total bill? $260.99\n",
      "What percentage tip would you like to give? 10, 12, or 15? 12\n",
      "How many people spilt the bill? 7\n",
      "Each person should pay: $41.76\n"
     ]
    }
   ],
   "source": [
    "print(\"Welcome to the tip calculator !\")\n",
    "total=input(\"What was the total bill? $\")\n",
    "total=float(total)\n",
    "percentage=input(\"What percentage tip would you like to give? 10, 12, or 15? \")\n",
    "percentage=int(percentage)\n",
    "people=input(\"How many people spilt the bill? \")\n",
    "people=int(people)\n",
    "amount=round((total*(percentage/100+1))/people,2)\n",
    "print(f\"Each person should pay: ${amount}\")"
   ]
  },
  {
   "cell_type": "code",
   "execution_count": null,
   "id": "918f412a",
   "metadata": {},
   "outputs": [],
   "source": []
  }
 ],
 "metadata": {
  "kernelspec": {
   "display_name": "Python 3 (ipykernel)",
   "language": "python",
   "name": "python3"
  },
  "language_info": {
   "codemirror_mode": {
    "name": "ipython",
    "version": 3
   },
   "file_extension": ".py",
   "mimetype": "text/x-python",
   "name": "python",
   "nbconvert_exporter": "python",
   "pygments_lexer": "ipython3",
   "version": "3.9.13"
  }
 },
 "nbformat": 4,
 "nbformat_minor": 5
}
