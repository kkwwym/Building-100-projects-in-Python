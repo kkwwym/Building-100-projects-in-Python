{
 "cells": [
  {
   "cell_type": "markdown",
   "id": "e06ec866",
   "metadata": {},
   "source": [
    "# Password Generator\n",
    "---"
   ]
  },
  {
   "cell_type": "code",
   "execution_count": 1,
   "id": "2fc291e6",
   "metadata": {},
   "outputs": [],
   "source": [
    "import random"
   ]
  },
  {
   "cell_type": "code",
   "execution_count": 2,
   "id": "85aae242",
   "metadata": {},
   "outputs": [],
   "source": [
    "letters = ['a', 'b', 'c', 'd', 'e', 'f', 'g', 'h', 'i', 'j', 'k', 'l', 'm', 'n', 'o', 'p', 'q', 'r', 's', 't', 'u', 'v', 'w', 'x', 'y', 'z', 'A', 'B', 'C', 'D', 'E', 'F', 'G', 'H', 'I', 'J', 'K', 'L', 'M', 'N', 'O', 'P', 'Q', 'R', 'S', 'T', 'U', 'V', 'W', 'X', 'Y', 'Z']\n",
    "numbers = ['0', '1', '2', '3', '4', '5', '6', '7', '8', '9']\n",
    "symbols = ['!', '#', '$', '%', '&', '(', ')', '*', '+']"
   ]
  },
  {
   "cell_type": "code",
   "execution_count": 3,
   "id": "56fff1ff",
   "metadata": {},
   "outputs": [
    {
     "name": "stdout",
     "output_type": "stream",
     "text": [
      "Welcome to the PyPassword Generator!\n",
      "How many letters would you need in your password?\n",
      "3\n",
      "How many symbols would you need in your password?\n",
      "3\n",
      "How many numbers would you need in your password?\n",
      "3\n"
     ]
    }
   ],
   "source": [
    "print(\"Welcome to the PyPassword Generator!\")\n",
    "count_letters=int(input(\"How many letters would you need in your password?\\n\"))\n",
    "count_symbols=int(input(\"How many symbols would you need in your password?\\n\"))\n",
    "count_numbers=int(input(\"How many numbers would you need in your password?\\n\"))"
   ]
  },
  {
   "cell_type": "code",
   "execution_count": 4,
   "id": "deb5ad19",
   "metadata": {},
   "outputs": [
    {
     "name": "stdout",
     "output_type": "stream",
     "text": [
      "['K', 'w', 'p', '+', '&', ')', '4', '7', '3']\n"
     ]
    }
   ],
   "source": [
    "password_list=[]\n",
    "for i in range(1,count_letters+1):\n",
    "    password_list.append(random.choice(letters))\n",
    "for i in range(1,count_symbols+1):\n",
    "    password_list.append(random.choice(symbols))\n",
    "for i in range(1,count_numbers+1):\n",
    "    password_list.append(random.choice(numbers))\n",
    "    \n",
    "print(password_list)"
   ]
  },
  {
   "cell_type": "code",
   "execution_count": 5,
   "id": "694e7e05",
   "metadata": {},
   "outputs": [
    {
     "name": "stdout",
     "output_type": "stream",
     "text": [
      "['K', '3', ')', '&', 'p', '+', '4', '7', 'w']\n"
     ]
    }
   ],
   "source": [
    "random.shuffle(password_list)\n",
    "print(password_list)"
   ]
  },
  {
   "cell_type": "code",
   "execution_count": 6,
   "id": "6d145e61",
   "metadata": {},
   "outputs": [
    {
     "name": "stdout",
     "output_type": "stream",
     "text": [
      "Your password is: K3)&p+47w\n"
     ]
    }
   ],
   "source": [
    "password=\"\"\n",
    "for i in password_list:\n",
    "    password+=i\n",
    "    \n",
    "print(f\"Your password is: {password}\")"
   ]
  },
  {
   "cell_type": "markdown",
   "id": "8d238b16",
   "metadata": {},
   "source": [
    "---"
   ]
  },
  {
   "cell_type": "markdown",
   "id": "e9029dca",
   "metadata": {},
   "source": [
    "### Testing"
   ]
  },
  {
   "cell_type": "code",
   "execution_count": 7,
   "id": "07d6bfa4",
   "metadata": {},
   "outputs": [
    {
     "name": "stdout",
     "output_type": "stream",
     "text": [
      "Welcome to the PyPassword Generator!\n",
      "How many letters would you need in your password?\n",
      "8\n",
      "How many symbols would you need in your password?\n",
      "2\n",
      "How many numbers would you need in your password?\n",
      "6\n",
      "Your password is: gA2b!47J$ace9q77\n"
     ]
    }
   ],
   "source": [
    "print(\"Welcome to the PyPassword Generator!\")\n",
    "count_letters=int(input(\"How many letters would you need in your password?\\n\"))\n",
    "count_symbols=int(input(\"How many symbols would you need in your password?\\n\"))\n",
    "count_numbers=int(input(\"How many numbers would you need in your password?\\n\"))\n",
    "\n",
    "password_list=[]\n",
    "for i in range(1,count_letters+1):\n",
    "    password_list.append(random.choice(letters))\n",
    "for i in range(1,count_symbols+1):\n",
    "    password_list.append(random.choice(symbols))\n",
    "for i in range(1,count_numbers+1):\n",
    "    password_list.append(random.choice(numbers))\n",
    "    \n",
    "random.shuffle(password_list)\n",
    "\n",
    "password=\"\"\n",
    "for i in password_list:\n",
    "    password+=i\n",
    "    \n",
    "print(f\"Your password is: {password}\")"
   ]
  }
 ],
 "metadata": {
  "kernelspec": {
   "display_name": "Python 3 (ipykernel)",
   "language": "python",
   "name": "python3"
  },
  "language_info": {
   "codemirror_mode": {
    "name": "ipython",
    "version": 3
   },
   "file_extension": ".py",
   "mimetype": "text/x-python",
   "name": "python",
   "nbconvert_exporter": "python",
   "pygments_lexer": "ipython3",
   "version": "3.9.13"
  }
 },
 "nbformat": 4,
 "nbformat_minor": 5
}
